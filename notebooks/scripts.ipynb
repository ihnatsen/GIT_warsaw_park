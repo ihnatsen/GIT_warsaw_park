{
 "cells": [
  {
   "cell_type": "code",
   "id": "initial_id",
   "metadata": {
    "collapsed": true,
    "ExecuteTime": {
     "end_time": "2025-03-21T13:57:33.582237Z",
     "start_time": "2025-03-21T13:57:33.576332Z"
    }
   },
   "source": [
    "import requests\n",
    "from bs4 import BeautifulSoup\n",
    "import pandas as pd\n",
    "import re\n",
    "from itertools import chain\n"
   ],
   "outputs": [],
   "execution_count": 258
  },
  {
   "metadata": {
    "ExecuteTime": {
     "end_time": "2025-03-21T13:57:33.609995Z",
     "start_time": "2025-03-21T13:57:33.584982Z"
    }
   },
   "cell_type": "code",
   "source": [
    "class Web:\n",
    "    def __init__(self, url):\n",
    "        self.url = url\n",
    "    \n",
    "    def get_html(self) -> 'html': \n",
    "        return requests.get(self.url).text\n",
    "    "
   ],
   "id": "2750aef5f8efc12b",
   "outputs": [],
   "execution_count": 259
  },
  {
   "metadata": {
    "ExecuteTime": {
     "end_time": "2025-03-21T13:57:34.877700Z",
     "start_time": "2025-03-21T13:57:34.871646Z"
    }
   },
   "cell_type": "code",
   "source": "data = pd.DataFrame(columns=['park_name', 'description', 'position', 'area', 'attractions'])\n",
   "id": "de2e84a41062aad2",
   "outputs": [],
   "execution_count": 260
  },
  {
   "metadata": {
    "ExecuteTime": {
     "end_time": "2025-03-21T13:57:38.026288Z",
     "start_time": "2025-03-21T13:57:38.022005Z"
    }
   },
   "cell_type": "code",
   "source": [
    "def format_url(park):\n",
    "    park = re.sub(r'\\W', '-', park)\n",
    "    return re.sub(r'--+', '-', park)\n"
   ],
   "id": "7414b4feabe95079",
   "outputs": [],
   "execution_count": 262
  },
  {
   "metadata": {
    "ExecuteTime": {
     "end_time": "2025-03-21T13:57:39.381220Z",
     "start_time": "2025-03-21T13:57:39.373726Z"
    }
   },
   "cell_type": "code",
   "source": [
    "with open(r'D:\\WarsawParkInfo\\data\\park', mode='r', encoding='utf-8') as f:\n",
    "    parks_name = f.read().split(',\\n')\n",
    "parks_name = [format_url(park) for park in parks_name]\n"
   ],
   "id": "5f5eb71be4179598",
   "outputs": [],
   "execution_count": 263
  },
  {
   "metadata": {
    "ExecuteTime": {
     "end_time": "2025-03-21T13:58:21.573451Z",
     "start_time": "2025-03-21T13:57:40.787399Z"
    }
   },
   "cell_type": "code",
   "source": [
    "pattern = 'https://eko.um.warszawa.pl/-/{}?redirect=%2Fparki_'\n",
    "pages = [Web(pattern.format(park)).get_html() for park in parks_name]\n"
   ],
   "id": "25bba8046a90506e",
   "outputs": [],
   "execution_count": 264
  },
  {
   "metadata": {
    "ExecuteTime": {
     "end_time": "2025-03-21T13:58:24.749762Z",
     "start_time": "2025-03-21T13:58:21.576115Z"
    }
   },
   "cell_type": "code",
   "source": "pages_html_format = {name:BeautifulSoup(page, 'html.parser').find_all('div', attrs={'class':'article-description'}) for name, page in zip(parks_name,pages)}\n",
   "id": "7fe8e7d3ee925c0",
   "outputs": [],
   "execution_count": 265
  },
  {
   "metadata": {
    "ExecuteTime": {
     "end_time": "2025-03-21T13:58:24.763826Z",
     "start_time": "2025-03-21T13:58:24.751831Z"
    }
   },
   "cell_type": "code",
   "source": [
    "# ['park_name', 'description', 'position', 'area', 'attractions'])\n",
    "poor_parks = list()\n",
    "table = {\n",
    "'park_name': list(),\n",
    "'attractions': list(),\n",
    "'area': list(),\n",
    "'position': list(),\n",
    "'description': list()}\n",
    "\n",
    "for park in pages_html_format:\n",
    "    content = list()\n",
    "    p_tags = pages_html_format[park][0].find_all('p')\n",
    "    p_tags.reverse()\n",
    "    for p in p_tags:\n",
    "        content.append(p.text)\n",
    "    try:\n",
    "        table['park_name'].append(park)\n",
    "        table['attractions'].append(content[0])\n",
    "        table['area'].append(content[1])\n",
    "        table['position'].append(content[2])\n",
    "        table['description'].append(list(chain(content[-1:2:-1])))\n",
    "    except IndexError:\n",
    "        poor_parks.append(park)"
   ],
   "id": "292aef4a54d1222c",
   "outputs": [],
   "execution_count": 266
  },
  {
   "metadata": {
    "ExecuteTime": {
     "end_time": "2025-03-21T13:58:53.619178Z",
     "start_time": "2025-03-21T13:58:53.547770Z"
    }
   },
   "cell_type": "code",
   "source": "# pd.DataFrame(table).to_excel(r'D:\\WarsawParkInfo\\data\\table.xlsx')",
   "id": "34e05cf37a9d5294",
   "outputs": [],
   "execution_count": 269
  }
 ],
 "metadata": {
  "kernelspec": {
   "display_name": "Python 3",
   "language": "python",
   "name": "python3"
  },
  "language_info": {
   "codemirror_mode": {
    "name": "ipython",
    "version": 2
   },
   "file_extension": ".py",
   "mimetype": "text/x-python",
   "name": "python",
   "nbconvert_exporter": "python",
   "pygments_lexer": "ipython2",
   "version": "2.7.6"
  }
 },
 "nbformat": 4,
 "nbformat_minor": 5
}
