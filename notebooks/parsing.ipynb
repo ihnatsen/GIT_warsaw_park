{
 "cells": [
  {
   "cell_type": "code",
   "execution_count": null,
   "id": "initial_id",
   "metadata": {
    "collapsed": true
   },
   "outputs": [],
   "source": [
    "import requests\n",
    "from bs4 import BeautifulSoup\n",
    "import pandas as pd\n",
    "import re\n",
    "from itertools import chain"
   ]
  },
  {
   "metadata": {},
   "cell_type": "code",
   "outputs": [],
   "execution_count": null,
   "source": [
    "class Web:\n",
    "    def __init__(self, url):\n",
    "        self.url = url\n",
    "    \n",
    "    def get_html(self) -> 'html': \n",
    "        return requests.get(self.url).text  "
   ],
   "id": "ca4ae08c235eec3b"
  },
  {
   "metadata": {},
   "cell_type": "code",
   "outputs": [],
   "execution_count": null,
   "source": "data = pd.DataFrame(columns=['park_name', 'description', 'position', 'area', 'attractions'])",
   "id": "d3fef8bf5c76c106"
  },
  {
   "metadata": {},
   "cell_type": "code",
   "outputs": [],
   "execution_count": null,
   "source": [
    "def format_url(park):\n",
    "    park = re.sub(r'\\W', '-', park)\n",
    "    return re.sub(r'--+', '-', park)"
   ],
   "id": "84bf03b873a52237"
  },
  {
   "metadata": {},
   "cell_type": "code",
   "outputs": [],
   "execution_count": null,
   "source": [
    "def replace_pl_letters(record:pd.Series) -> pd.Series:\n",
    "    transfer_map = str.maketrans({'Ą':'A','Ć':'C','Ę':'E','Ł':'L','Ń':'N','Ó':'O','Ś':'S','Ź':'Z','Ż':'Z','ą':'a','ć':'c','ę':'e','ł':'l','ń':'n','ó':'o','ś':'s','ź':'z','ż':'z'})\n",
    "    return record.str.translate(transfer_map)"
   ],
   "id": "b29e0cb93016caae"
  },
  {
   "metadata": {},
   "cell_type": "code",
   "outputs": [],
   "execution_count": null,
   "source": [
    "with open(r'D:\\WarsawParkInfo\\data\\park', mode='r', encoding='utf-8') as f:\n",
    "    parks_name = f.read().split(',\\n')\n",
    "parks_name = [format_url(park) for park in parks_name]"
   ],
   "id": "bc1f6ba7ebdc07b6"
  },
  {
   "metadata": {},
   "cell_type": "code",
   "outputs": [],
   "execution_count": null,
   "source": [
    "pattern = 'https://eko.um.warszawa.pl/-/{}?redirect=%2Fparki_'\n",
    "pages = [Web(pattern.format(park)).get_html() for park in parks_name]"
   ],
   "id": "31eaf14d4eed0c2c"
  },
  {
   "metadata": {},
   "cell_type": "code",
   "outputs": [],
   "execution_count": null,
   "source": "pages_html_format = {name:BeautifulSoup(page, 'html.parser').find_all('div', attrs={'class':'article-description'}) for name, page in zip(parks_name,pages)}",
   "id": "cab912361edbc16c"
  },
  {
   "metadata": {},
   "cell_type": "code",
   "outputs": [],
   "execution_count": null,
   "source": [
    "# ['park_name', 'description', 'position', 'area', 'attractions'])\n",
    "poor_parks = list()\n",
    "table = {\n",
    "'park_name': list(),\n",
    "'attractions': list(),\n",
    "'area': list(),\n",
    "'position': list(),\n",
    "'description': list()}\n",
    "\n",
    "for park in pages_html_format:\n",
    "    content = list()\n",
    "    p_tags = pages_html_format[park][0].find_all('p')\n",
    "    p_tags.reverse()\n",
    "    for p in p_tags:\n",
    "        content.append(p.text)\n",
    "    try:\n",
    "        table['park_name'].append(park)\n",
    "        table['attractions'].append(content[0])\n",
    "        table['area'].append(content[1])\n",
    "        table['position'].append(content[2])\n",
    "        table['description'].append(list(chain(content[-1:2:-1])))\n",
    "    except IndexError:\n",
    "        poor_parks.append(park)"
   ],
   "id": "cbc4713e000fc3cf"
  },
  {
   "metadata": {},
   "cell_type": "code",
   "outputs": [],
   "execution_count": null,
   "source": "# pd.DataFrame(table).to_excel(r'D:\\WarsawParkInfo\\data\\table.xlsx')",
   "id": "8c9a72d9649671ca"
  }
 ],
 "metadata": {
  "kernelspec": {
   "display_name": "Python 3",
   "language": "python",
   "name": "python3"
  },
  "language_info": {
   "codemirror_mode": {
    "name": "ipython",
    "version": 2
   },
   "file_extension": ".py",
   "mimetype": "text/x-python",
   "name": "python",
   "nbconvert_exporter": "python",
   "pygments_lexer": "ipython2",
   "version": "2.7.6"
  }
 },
 "nbformat": 4,
 "nbformat_minor": 5
}
