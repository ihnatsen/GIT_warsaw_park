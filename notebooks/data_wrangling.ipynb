{
 "cells": [
  {
   "metadata": {
    "ExecuteTime": {
     "end_time": "2025-03-29T08:23:11.187397Z",
     "start_time": "2025-03-29T08:23:11.180346Z"
    }
   },
   "cell_type": "code",
   "source": [
    "import pandas as pd\n",
    "import re"
   ],
   "id": "3934c792191b7d63",
   "outputs": [],
   "execution_count": 2
  },
  {
   "metadata": {},
   "cell_type": "code",
   "source": [
    "data = pd.read_excel(r'D:\\WarsawParkInfo\\data\\table.xlsx', index_col='park_id')\n",
    "data.head(7)"
   ],
   "id": "637a29406d55afaf",
   "outputs": [],
   "execution_count": null
  },
  {
   "metadata": {
    "ExecuteTime": {
     "end_time": "2025-03-25T17:11:01.192517Z",
     "start_time": "2025-03-25T17:11:01.182398Z"
    }
   },
   "cell_type": "code",
   "source": [
    "# Formating of area to digit format\n",
    "area = data['area']\n",
    "pattern = re.compile(r'\\d+,*\\d*')\n",
    "digit = area.str.findall(pattern)\n",
    "number = digit.apply(lambda lst: lst[0])"
   ],
   "id": "3947b055a9974712",
   "outputs": [],
   "execution_count": 336
  },
  {
   "metadata": {},
   "cell_type": "code",
   "source": [
    "# the table of Warsaw district.\n",
    "html_tables = pd.read_html(r'https://pl.wikipedia.org/wiki/Podzia%C5%82_administracyjny_Warszawy')\n",
    "districts = html_tables[0]['Dzielnica']\n",
    "districts.index = pd.RangeIndex(len(districts), name='district_id')\n",
    "districts = districts.str.replace('-', ' ')"
   ],
   "id": "c309926b4234b218",
   "outputs": [],
   "execution_count": null
  },
  {
   "metadata": {},
   "cell_type": "code",
   "source": [
    "# districts in park table\n",
    "pattern = re.compile('|'.join(districts))\n",
    "p_districts = data['position']\n",
    "p_districts = p_districts.str.findall(pattern).apply(lambda lst: lst[0] if len(lst) >0 else None)\n",
    "p_districts"
   ],
   "id": "a91eb045cc91ddfa",
   "outputs": [],
   "execution_count": null
  },
  {
   "metadata": {},
   "cell_type": "code",
   "source": [
    "# districts for the park table.\n",
    "districts_index = pd.Index(districts)\n",
    "district_id = districts_index.get_indexer(p_districts)"
   ],
   "id": "c17bc6274720a3f1",
   "outputs": [],
   "execution_count": null
  },
  {
   "metadata": {
    "ExecuteTime": {
     "end_time": "2025-03-25T17:14:20.792381Z",
     "start_time": "2025-03-25T17:14:20.784220Z"
    }
   },
   "cell_type": "code",
   "source": [
    "# streets address of parks. \n",
    "pattern = re.compile(r',',re.UNICODE)\n",
    "buffer = data['position'].str.split(pattern, n=1, expand=True)\n",
    "buffer = buffer.ffill(axis=1).iloc[:, 1]\n",
    "position = buffer.apply(lambda s: s.strip())"
   ],
   "id": "b0cb52e7b67b42b4",
   "outputs": [],
   "execution_count": 352
  },
  {
   "metadata": {
    "ExecuteTime": {
     "end_time": "2025-03-25T17:16:59.274383Z",
     "start_time": "2025-03-25T17:16:59.269207Z"
    }
   },
   "cell_type": "code",
   "source": [
    "# writing the data to df.\n",
    "data['area'] = number\n",
    "data['district_id'] = district_id\n",
    "data['position'] = position"
   ],
   "id": "3f7335948aef529c",
   "outputs": [],
   "execution_count": 368
  },
  {
   "metadata": {},
   "cell_type": "code",
   "outputs": [],
   "execution_count": null,
   "source": [
    "# To write the data to excel\n",
    "# with pd.ExcelWriter(r'D:\\WarsawParkInfo\\data\\table.xlsx', mode='w') as writer:\n",
    "#     data.to_excel(writer, sheet_name='Park', index=False)\n",
    "#     districts.to_excel(writer, sheet_name='district', index=True)"
   ],
   "id": "251d7ac44811160a"
  },
  {
   "metadata": {
    "ExecuteTime": {
     "end_time": "2025-03-26T18:17:03.297968Z",
     "start_time": "2025-03-26T18:17:03.202020Z"
    }
   },
   "cell_type": "code",
   "source": [
    "# Creating of district of park table.\n",
    "# key: Mokotow: 0, Ochota: 10, Śródmieście: 8.\n",
    "data = pd.read_excel(r'D:\\WarsawParkInfo\\data\\table.xlsx')\n",
    "p_district_id = data[['district_id', 'park_id']]\n",
    "\n",
    "# drop the record of park Pole-Mokotowskie\n",
    "head, tail = p_district_id[:55], p_district_id[56:]\n",
    "new_records = pd.DataFrame({'park_id': [55, 55, 55], 'district_id': [0, 10, 8]})\n",
    "districts_of_park = pd.concat([head, tail, new_records])"
   ],
   "id": "380a8afcf2101855",
   "outputs": [],
   "execution_count": 4
  },
  {
   "metadata": {},
   "cell_type": "code",
   "outputs": [],
   "execution_count": null,
   "source": [
    "# To write the data to excel.\n",
    "# with pd.ExcelWriter(r'D:\\WarsawParkInfo\\data\\buffer.xlsx') as writer:\n",
    "#     districts_of_park.to_excel(writer, sheet_name='Districts_of_park', index=False) "
   ],
   "id": "5206f151905a4b8d"
  },
  {
   "metadata": {
    "ExecuteTime": {
     "end_time": "2025-03-29T08:30:06.198905Z",
     "start_time": "2025-03-29T08:30:06.193156Z"
    }
   },
   "cell_type": "code",
   "source": [
    "# Coordinate of Warsaw districts. \n",
    "df = pd.read_csv(r'D:\\WarsawParkInfo\\data\\district.csv', sep=';')\n",
    "districts_coordinate = df[['WKT', 'name']]"
   ],
   "id": "2b540127a9c3c648",
   "outputs": [],
   "execution_count": 9
  },
  {
   "metadata": {
    "ExecuteTime": {
     "end_time": "2025-03-29T08:56:43.502198Z",
     "start_time": "2025-03-29T08:56:43.493228Z"
    }
   },
   "cell_type": "code",
   "source": [
    "def replace_pl_letters(record:pd.Series) -> pd.Series:\n",
    "    transfer_map = str.maketrans({'Ą':'A','Ć':'C','Ę':'E','Ł':'L','Ń':'N','Ó':'O','Ś':'S','Ź':'Z','Ż':'Z','ą':'a','ć':'c','ę':'e','ł':'l','ń':'n','ó':'o','ś':'s','ź':'z','ż':'z'})\n",
    "    return record.str.translate(transfer_map)\n",
    "def format_url(park):\n",
    "    park = re.sub(r'\\W', '-', park)\n",
    "    return re.sub(r'--+', '-', park)"
   ],
   "id": "f8a0956dea64a4ff",
   "outputs": [],
   "execution_count": 46
  },
  {
   "metadata": {
    "ExecuteTime": {
     "end_time": "2025-03-29T11:54:59.194323Z",
     "start_time": "2025-03-29T11:54:59.095248Z"
    }
   },
   "cell_type": "code",
   "source": [
    "# Coordinate of the Warsaw parks.\n",
    "df = pd.read_csv(r'D:\\WarsawParkInfo\\data\\park.csv', sep=';')\n",
    "q_park: pd.DataFrame\n",
    "q_park = df['website']\n",
    "q_park.index = df['full_id']\n",
    "\n",
    "e_park = pd.read_excel(r'D:\\WarsawParkInfo\\data\\table.xlsx', sheet_name='Park')\n",
    "e_park = e_park.iloc[:, [0, 1]]\n",
    "\n",
    "pattern = re.compile('|'.join(e_park['park_name']), flags=re.IGNORECASE)\n",
    "\n",
    "the_parks = q_park.str.findall(pattern)\n",
    "the_parks = the_parks.explode()\n",
    "# index maches\n",
    "matches = the_parks[~the_parks.isnull()]\n",
    "pattern = re.compile('|'.join(matches), flags=re.IGNORECASE)\n",
    "\n",
    "matches.loc['w524003875'] = pd.NA\n",
    "matches = matches.dropna()"
   ],
   "id": "3468b36130a1c27",
   "outputs": [],
   "execution_count": 403
  },
  {
   "metadata": {
    "ExecuteTime": {
     "end_time": "2025-03-29T12:03:19.584626Z",
     "start_time": "2025-03-29T12:03:19.479781Z"
    }
   },
   "cell_type": "code",
   "source": [
    "is_fonded = df[df['full_id'].isin(matches.index)]\n",
    "is_fonded.index = pd.Index(e_park['park_name'].str.lower()).get_indexer(matches)\n",
    "# [123, 151, 36, 46, 233, 45, 51]\n",
    "not_fonded = df.iloc[[123, 151, 36, 46, 233, 45, 51], :]\n",
    "not_fonded.index =  pd.Index([4, 17, 26, 51, 63, 65, 67])\n",
    "\n",
    "result = pd.concat([is_fonded, not_fonded])\n",
    "result.index.name = 'park_id'\n",
    "result = result.iloc[:, [0, -1]]"
   ],
   "id": "37c90803d189db5",
   "outputs": [],
   "execution_count": 420
  },
  {
   "metadata": {
    "ExecuteTime": {
     "end_time": "2025-03-29T12:03:20.965080Z",
     "start_time": "2025-03-29T12:03:20.767285Z"
    }
   },
   "cell_type": "code",
   "source": [
    "with pd.ExcelWriter(r'D:\\WarsawParkInfo\\data\\buffer.xlsx') as writer:\n",
    "    result.to_excel(writer, index=True)"
   ],
   "id": "91b7821079b19fec",
   "outputs": [],
   "execution_count": 421
  }
 ],
 "metadata": {
  "kernelspec": {
   "display_name": "Python 3",
   "language": "python",
   "name": "python3"
  },
  "language_info": {
   "codemirror_mode": {
    "name": "ipython",
    "version": 2
   },
   "file_extension": ".py",
   "mimetype": "text/x-python",
   "name": "python",
   "nbconvert_exporter": "python",
   "pygments_lexer": "ipython2",
   "version": "2.7.6"
  }
 },
 "nbformat": 4,
 "nbformat_minor": 5
}
