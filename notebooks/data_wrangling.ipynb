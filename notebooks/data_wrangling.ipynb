{
 "cells": [
  {
   "metadata": {
    "ExecuteTime": {
     "end_time": "2025-03-26T18:16:54.943477Z",
     "start_time": "2025-03-26T18:16:53.226233Z"
    }
   },
   "cell_type": "code",
   "source": [
    "import pandas as pd\n",
    "import re"
   ],
   "id": "3934c792191b7d63",
   "outputs": [],
   "execution_count": 2
  },
  {
   "metadata": {
    "ExecuteTime": {
     "end_time": "2025-03-26T18:16:59.377033Z",
     "start_time": "2025-03-26T18:16:58.635680Z"
    }
   },
   "cell_type": "code",
   "source": [
    "data = pd.read_excel(r'D:\\WarsawParkInfo\\data\\table.xlsx', index_col='park_id')\n",
    "data.head(7)"
   ],
   "id": "637a29406d55afaf",
   "outputs": [
    {
     "data": {
      "text/plain": [
       "                                        park_name  \\\n",
       "park_id                                             \n",
       "0                                    Park-Arkadia   \n",
       "1        Park-im-Marszalka-Edwarda-Rydza-Smiglego   \n",
       "2                             Park-Kazimierzowski   \n",
       "3          Park-Skaryszewski-im-I-J-Paderewskiego   \n",
       "4                                     Park-Znicza   \n",
       "5                                Park-Zeromskiego   \n",
       "6                          Zieleniec-Wielkopolski   \n",
       "\n",
       "                                               attractions   area  \\\n",
       "park_id                                                             \n",
       "0        stawy parkowe, muzeum im. Xawerego Dunikowskie...     11   \n",
       "1        fontanna i układ wodny od strony ul .Rozbrat, ...     53   \n",
       "2        stary drzewostan, piękny widok rozciągający si...      4   \n",
       "3        stary drzewostan, układ wodny, grota, plac zab...  49,56   \n",
       "4                    plac zabaw, miejsce pamięci, fontanna    1,9   \n",
       "5        stary drzewostan, plac zabaw, fontanna z rzeźb...      6   \n",
       "6        plac zabaw, duża różnorodność gatunkowa roślin...   4,95   \n",
       "\n",
       "                                                  position district_id  rating  \n",
       "park_id                                                                         \n",
       "0        pomiędzy ulicami Puławską, Żywnego, Piaseczyńs...           0     NaN  \n",
       "1        w rejonie ulic Czerniakowskiej, Górnośląskiej,...           8     NaN  \n",
       "2                w obrębie ulic Karowej, Browarnej, Dynasy           8     NaN  \n",
       "3        w obrębie ulic: Al. Waszyngtona, Zielenieckiej...           1     NaN  \n",
       "4        w obrębie ulic Znicza, Filomatów, Bełżecka, Ml...           1     NaN  \n",
       "5        przy pl. Wilsona, pomiędzy ulicami Mickiewicza...          13     NaN  \n",
       "6        w obrębie ulic Filtrowej, Wawelskiej, Łęczycki...          10     NaN  "
      ],
      "text/html": [
       "<div>\n",
       "<style scoped>\n",
       "    .dataframe tbody tr th:only-of-type {\n",
       "        vertical-align: middle;\n",
       "    }\n",
       "\n",
       "    .dataframe tbody tr th {\n",
       "        vertical-align: top;\n",
       "    }\n",
       "\n",
       "    .dataframe thead th {\n",
       "        text-align: right;\n",
       "    }\n",
       "</style>\n",
       "<table border=\"1\" class=\"dataframe\">\n",
       "  <thead>\n",
       "    <tr style=\"text-align: right;\">\n",
       "      <th></th>\n",
       "      <th>park_name</th>\n",
       "      <th>attractions</th>\n",
       "      <th>area</th>\n",
       "      <th>position</th>\n",
       "      <th>district_id</th>\n",
       "      <th>rating</th>\n",
       "    </tr>\n",
       "    <tr>\n",
       "      <th>park_id</th>\n",
       "      <th></th>\n",
       "      <th></th>\n",
       "      <th></th>\n",
       "      <th></th>\n",
       "      <th></th>\n",
       "      <th></th>\n",
       "    </tr>\n",
       "  </thead>\n",
       "  <tbody>\n",
       "    <tr>\n",
       "      <th>0</th>\n",
       "      <td>Park-Arkadia</td>\n",
       "      <td>stawy parkowe, muzeum im. Xawerego Dunikowskie...</td>\n",
       "      <td>11</td>\n",
       "      <td>pomiędzy ulicami Puławską, Żywnego, Piaseczyńs...</td>\n",
       "      <td>0</td>\n",
       "      <td>NaN</td>\n",
       "    </tr>\n",
       "    <tr>\n",
       "      <th>1</th>\n",
       "      <td>Park-im-Marszalka-Edwarda-Rydza-Smiglego</td>\n",
       "      <td>fontanna i układ wodny od strony ul .Rozbrat, ...</td>\n",
       "      <td>53</td>\n",
       "      <td>w rejonie ulic Czerniakowskiej, Górnośląskiej,...</td>\n",
       "      <td>8</td>\n",
       "      <td>NaN</td>\n",
       "    </tr>\n",
       "    <tr>\n",
       "      <th>2</th>\n",
       "      <td>Park-Kazimierzowski</td>\n",
       "      <td>stary drzewostan, piękny widok rozciągający si...</td>\n",
       "      <td>4</td>\n",
       "      <td>w obrębie ulic Karowej, Browarnej, Dynasy</td>\n",
       "      <td>8</td>\n",
       "      <td>NaN</td>\n",
       "    </tr>\n",
       "    <tr>\n",
       "      <th>3</th>\n",
       "      <td>Park-Skaryszewski-im-I-J-Paderewskiego</td>\n",
       "      <td>stary drzewostan, układ wodny, grota, plac zab...</td>\n",
       "      <td>49,56</td>\n",
       "      <td>w obrębie ulic: Al. Waszyngtona, Zielenieckiej...</td>\n",
       "      <td>1</td>\n",
       "      <td>NaN</td>\n",
       "    </tr>\n",
       "    <tr>\n",
       "      <th>4</th>\n",
       "      <td>Park-Znicza</td>\n",
       "      <td>plac zabaw, miejsce pamięci, fontanna</td>\n",
       "      <td>1,9</td>\n",
       "      <td>w obrębie ulic Znicza, Filomatów, Bełżecka, Ml...</td>\n",
       "      <td>1</td>\n",
       "      <td>NaN</td>\n",
       "    </tr>\n",
       "    <tr>\n",
       "      <th>5</th>\n",
       "      <td>Park-Zeromskiego</td>\n",
       "      <td>stary drzewostan, plac zabaw, fontanna z rzeźb...</td>\n",
       "      <td>6</td>\n",
       "      <td>przy pl. Wilsona, pomiędzy ulicami Mickiewicza...</td>\n",
       "      <td>13</td>\n",
       "      <td>NaN</td>\n",
       "    </tr>\n",
       "    <tr>\n",
       "      <th>6</th>\n",
       "      <td>Zieleniec-Wielkopolski</td>\n",
       "      <td>plac zabaw, duża różnorodność gatunkowa roślin...</td>\n",
       "      <td>4,95</td>\n",
       "      <td>w obrębie ulic Filtrowej, Wawelskiej, Łęczycki...</td>\n",
       "      <td>10</td>\n",
       "      <td>NaN</td>\n",
       "    </tr>\n",
       "  </tbody>\n",
       "</table>\n",
       "</div>"
      ]
     },
     "execution_count": 3,
     "metadata": {},
     "output_type": "execute_result"
    }
   ],
   "execution_count": 3
  },
  {
   "metadata": {
    "ExecuteTime": {
     "end_time": "2025-03-25T17:11:01.192517Z",
     "start_time": "2025-03-25T17:11:01.182398Z"
    }
   },
   "cell_type": "code",
   "source": [
    "# Formating of area to digit format\n",
    "area = data['area']\n",
    "pattern = re.compile(r'\\d+,*\\d*')\n",
    "digit = area.str.findall(pattern)\n",
    "number = digit.apply(lambda lst: lst[0])"
   ],
   "id": "3947b055a9974712",
   "outputs": [],
   "execution_count": 336
  },
  {
   "metadata": {},
   "cell_type": "code",
   "source": [
    "# the table of Warsaw district.\n",
    "html_tables = pd.read_html(r'https://pl.wikipedia.org/wiki/Podzia%C5%82_administracyjny_Warszawy')\n",
    "districts = html_tables[0]['Dzielnica']\n",
    "districts.index = pd.RangeIndex(len(districts), name='district_id')\n",
    "districts = districts.str.replace('-', ' ')"
   ],
   "id": "c309926b4234b218",
   "outputs": [],
   "execution_count": null
  },
  {
   "metadata": {},
   "cell_type": "code",
   "source": [
    "# districts in park table\n",
    "pattern = re.compile('|'.join(districts))\n",
    "p_districts = data['position']\n",
    "p_districts = p_districts.str.findall(pattern).apply(lambda lst: lst[0] if len(lst) >0 else None)\n",
    "p_districts"
   ],
   "id": "a91eb045cc91ddfa",
   "outputs": [],
   "execution_count": null
  },
  {
   "metadata": {},
   "cell_type": "code",
   "source": [
    "# districts for the park table.\n",
    "districts_index = pd.Index(districts)\n",
    "district_id = districts_index.get_indexer(p_districts)"
   ],
   "id": "c17bc6274720a3f1",
   "outputs": [],
   "execution_count": null
  },
  {
   "metadata": {
    "ExecuteTime": {
     "end_time": "2025-03-25T17:14:20.792381Z",
     "start_time": "2025-03-25T17:14:20.784220Z"
    }
   },
   "cell_type": "code",
   "source": [
    "# streets address of parks. \n",
    "pattern = re.compile(r',',re.UNICODE)\n",
    "buffer = data['position'].str.split(pattern, n=1, expand=True)\n",
    "buffer = buffer.ffill(axis=1).iloc[:, 1]\n",
    "position = buffer.apply(lambda s: s.strip())"
   ],
   "id": "b0cb52e7b67b42b4",
   "outputs": [],
   "execution_count": 352
  },
  {
   "metadata": {
    "ExecuteTime": {
     "end_time": "2025-03-25T17:16:59.274383Z",
     "start_time": "2025-03-25T17:16:59.269207Z"
    }
   },
   "cell_type": "code",
   "source": [
    "# writing the data to df.\n",
    "data['area'] = number\n",
    "data['district_id'] = district_id\n",
    "data['position'] = position"
   ],
   "id": "3f7335948aef529c",
   "outputs": [],
   "execution_count": 368
  },
  {
   "metadata": {},
   "cell_type": "code",
   "outputs": [],
   "execution_count": null,
   "source": [
    "# To write the data to excel\n",
    "# with pd.ExcelWriter(r'D:\\WarsawParkInfo\\data\\table.xlsx', mode='w') as writer:\n",
    "#     data.to_excel(writer, sheet_name='Park', index=False)\n",
    "#     districts.to_excel(writer, sheet_name='district', index=True)"
   ],
   "id": "251d7ac44811160a"
  },
  {
   "metadata": {
    "ExecuteTime": {
     "end_time": "2025-03-26T18:17:03.297968Z",
     "start_time": "2025-03-26T18:17:03.202020Z"
    }
   },
   "cell_type": "code",
   "source": [
    "# Creating of district of park table.\n",
    "# key: Mokotow: 0, Ochota: 10, Śródmieście: 8.\n",
    "data = pd.read_excel(r'D:\\WarsawParkInfo\\data\\table.xlsx')\n",
    "p_district_id = data[['district_id', 'park_id']]\n",
    "\n",
    "# drop the record of park Pole-Mokotowskie\n",
    "head, tail = p_district_id[:55], p_district_id[56:]\n",
    "new_records = pd.DataFrame({'park_id': [55, 55, 55], 'district_id': [0, 10, 8]})\n",
    "districts_of_park = pd.concat([head, tail, new_records])\n",
    "\n",
    "with pd.ExcelWriter(r'D:\\WarsawParkInfo\\data\\buffer.xlsx') as writer:\n",
    "    districts_of_park.to_excel(writer, sheet_name='Districts_of_park', index=False) "
   ],
   "id": "380a8afcf2101855",
   "outputs": [],
   "execution_count": 4
  }
 ],
 "metadata": {
  "kernelspec": {
   "display_name": "Python 3",
   "language": "python",
   "name": "python3"
  },
  "language_info": {
   "codemirror_mode": {
    "name": "ipython",
    "version": 2
   },
   "file_extension": ".py",
   "mimetype": "text/x-python",
   "name": "python",
   "nbconvert_exporter": "python",
   "pygments_lexer": "ipython2",
   "version": "2.7.6"
  }
 },
 "nbformat": 4,
 "nbformat_minor": 5
}
