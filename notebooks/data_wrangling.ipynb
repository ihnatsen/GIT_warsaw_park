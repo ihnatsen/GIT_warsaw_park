{
 "cells": [
  {
   "metadata": {},
   "cell_type": "code",
   "outputs": [],
   "execution_count": null,
   "source": [
    "import pandas as pd\n",
    "import re"
   ],
   "id": "3934c792191b7d63"
  },
  {
   "metadata": {},
   "cell_type": "code",
   "source": [
    "data = pd.read_excel(r'D:\\WarsawParkInfo\\data\\table.xlsx')\n",
    "data.head(7)"
   ],
   "id": "637a29406d55afaf",
   "outputs": [],
   "execution_count": null
  },
  {
   "metadata": {
    "ExecuteTime": {
     "end_time": "2025-03-25T17:11:01.192517Z",
     "start_time": "2025-03-25T17:11:01.182398Z"
    }
   },
   "cell_type": "code",
   "source": [
    "# Formating of area to digit format\n",
    "area = data['area']\n",
    "pattern = re.compile(r'\\d+,*\\d*')\n",
    "digit = area.str.findall(pattern)\n",
    "number = digit.apply(lambda lst: lst[0])"
   ],
   "id": "3947b055a9974712",
   "outputs": [],
   "execution_count": 336
  },
  {
   "metadata": {},
   "cell_type": "code",
   "source": [
    "# the table of Warsaw district.\n",
    "html_tables = pd.read_html(r'https://pl.wikipedia.org/wiki/Podzia%C5%82_administracyjny_Warszawy')\n",
    "districts = html_tables[0]['Dzielnica']\n",
    "districts.index = pd.RangeIndex(len(districts), name='district_id')\n",
    "districts = districts.str.replace('-', ' ')"
   ],
   "id": "c309926b4234b218",
   "outputs": [],
   "execution_count": null
  },
  {
   "metadata": {},
   "cell_type": "code",
   "source": [
    "# districts in park table\n",
    "pattern = re.compile('|'.join(districts))\n",
    "p_districts = data['position']\n",
    "p_districts = p_districts.str.findall(pattern).apply(lambda lst: lst[0] if len(lst) >0 else None)\n",
    "p_districts"
   ],
   "id": "a91eb045cc91ddfa",
   "outputs": [],
   "execution_count": null
  },
  {
   "metadata": {},
   "cell_type": "code",
   "source": [
    "# districts for the park table.\n",
    "districts_index = pd.Index(districts)\n",
    "district_id = districts_index.get_indexer(p_districts)"
   ],
   "id": "c17bc6274720a3f1",
   "outputs": [],
   "execution_count": null
  },
  {
   "metadata": {
    "ExecuteTime": {
     "end_time": "2025-03-25T17:14:20.792381Z",
     "start_time": "2025-03-25T17:14:20.784220Z"
    }
   },
   "cell_type": "code",
   "source": [
    "# streets address of parks. \n",
    "pattern = re.compile(r',',re.UNICODE)\n",
    "buffer = data['position'].str.split(pattern, n=1, expand=True)\n",
    "buffer = buffer.ffill(axis=1).iloc[:, 1]\n",
    "position = buffer.apply(lambda s: s.strip())"
   ],
   "id": "b0cb52e7b67b42b4",
   "outputs": [],
   "execution_count": 352
  },
  {
   "metadata": {
    "ExecuteTime": {
     "end_time": "2025-03-25T17:16:59.274383Z",
     "start_time": "2025-03-25T17:16:59.269207Z"
    }
   },
   "cell_type": "code",
   "source": [
    "# writing the data to df.\n",
    "data['area'] = number\n",
    "data['district_id'] = district_id\n",
    "data['position'] = position"
   ],
   "id": "3f7335948aef529c",
   "outputs": [],
   "execution_count": 368
  },
  {
   "metadata": {
    "ExecuteTime": {
     "end_time": "2025-03-25T17:17:53.863804Z",
     "start_time": "2025-03-25T17:17:53.767005Z"
    }
   },
   "cell_type": "code",
   "source": [
    "# with pd.ExcelWriter(r'D:\\WarsawParkInfo\\data\\table.xlsx', mode='w') as writer:\n",
    "#     data.to_excel(writer, sheet_name='Park', index=False)\n",
    "#     districts.to_excel(writer, sheet_name='district', index=True)"
   ],
   "id": "256a1cbd7243a875",
   "outputs": [],
   "execution_count": 373
  }
 ],
 "metadata": {
  "kernelspec": {
   "display_name": "Python 3",
   "language": "python",
   "name": "python3"
  },
  "language_info": {
   "codemirror_mode": {
    "name": "ipython",
    "version": 2
   },
   "file_extension": ".py",
   "mimetype": "text/x-python",
   "name": "python",
   "nbconvert_exporter": "python",
   "pygments_lexer": "ipython2",
   "version": "2.7.6"
  }
 },
 "nbformat": 4,
 "nbformat_minor": 5
}
